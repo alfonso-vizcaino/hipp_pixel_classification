{
 "cells": [
  {
   "cell_type": "markdown",
   "metadata": {
    "colab_type": "text",
    "id": "MhoQ0WE77laV"
   },
   "source": [
    "##### Copyright 2018 The TensorFlow Authors."
   ]
  },
  {
   "cell_type": "code",
   "execution_count": 1,
   "metadata": {
    "cellView": "form",
    "colab": {},
    "colab_type": "code",
    "id": "_ckMIh7O7s6D"
   },
   "outputs": [],
   "source": [
    "#@title Licensed under the Apache License, Version 2.0 (the \"License\");\n",
    "# you may not use this file except in compliance with the License.\n",
    "# You may obtain a copy of the License at\n",
    "#\n",
    "# https://www.apache.org/licenses/LICENSE-2.0\n",
    "#\n",
    "# Unless required by applicable law or agreed to in writing, software\n",
    "# distributed under the License is distributed on an \"AS IS\" BASIS,\n",
    "# WITHOUT WARRANTIES OR CONDITIONS OF ANY KIND, either express or implied.\n",
    "# See the License for the specific language governing permissions and\n",
    "# limitations under the License."
   ]
  },
  {
   "cell_type": "code",
   "execution_count": 2,
   "metadata": {
    "cellView": "form",
    "colab": {},
    "colab_type": "code",
    "id": "vasWnqRgy1H4"
   },
   "outputs": [],
   "source": [
    "#@title MIT License\n",
    "#\n",
    "# Copyright (c) 2017 François Chollet\n",
    "#\n",
    "# Permission is hereby granted, free of charge, to any person obtaining a\n",
    "# copy of this software and associated documentation files (the \"Software\"),\n",
    "# to deal in the Software without restriction, including without limitation\n",
    "# the rights to use, copy, modify, merge, publish, distribute, sublicense,\n",
    "# and/or sell copies of the Software, and to permit persons to whom the\n",
    "# Software is furnished to do so, subject to the following conditions:\n",
    "#\n",
    "# The above copyright notice and this permission notice shall be included in\n",
    "# all copies or substantial portions of the Software.\n",
    "#\n",
    "# THE SOFTWARE IS PROVIDED \"AS IS\", WITHOUT WARRANTY OF ANY KIND, EXPRESS OR\n",
    "# IMPLIED, INCLUDING BUT NOT LIMITED TO THE WARRANTIES OF MERCHANTABILITY,\n",
    "# FITNESS FOR A PARTICULAR PURPOSE AND NONINFRINGEMENT. IN NO EVENT SHALL\n",
    "# THE AUTHORS OR COPYRIGHT HOLDERS BE LIABLE FOR ANY CLAIM, DAMAGES OR OTHER\n",
    "# LIABILITY, WHETHER IN AN ACTION OF CONTRACT, TORT OR OTHERWISE, ARISING\n",
    "# FROM, OUT OF OR IN CONNECTION WITH THE SOFTWARE OR THE USE OR OTHER\n",
    "# DEALINGS IN THE SOFTWARE."
   ]
  },
  {
   "cell_type": "markdown",
   "metadata": {
    "colab_type": "text",
    "id": "jYysdyb-CaWM"
   },
   "source": [
    "# MLP Training"
   ]
  },
  {
   "cell_type": "markdown",
   "metadata": {
    "colab_type": "text",
    "id": "FbVhjPpzn6BM"
   },
   "source": [
    "MLP model trainning to classify pixel feature into hippocampal and non hippocampal using Tensorflow .\n"
   ]
  },
  {
   "cell_type": "code",
   "execution_count": 3,
   "metadata": {
    "colab": {},
    "colab_type": "code",
    "id": "jL3OqFKZ9dFg"
   },
   "outputs": [],
   "source": [
    "try:\n",
    "  # %tensorflow_version only exists in Colab.\n",
    "  %tensorflow_version 2.x\n",
    "except Exception:\n",
    "  pass\n"
   ]
  },
  {
   "cell_type": "code",
   "execution_count": 4,
   "metadata": {
    "colab": {},
    "colab_type": "code",
    "id": "dzLKpmZICaWN"
   },
   "outputs": [
    {
     "name": "stdout",
     "output_type": "stream",
     "text": [
      "2.1.0\n"
     ]
    }
   ],
   "source": [
    "from __future__ import absolute_import, division, print_function, unicode_literals\n",
    "\n",
    "# TensorFlow and tf.keras\n",
    "import tensorflow as tf\n",
    "from tensorflow import keras\n",
    "\n",
    "# Helper libraries\n",
    "import numpy as np\n",
    "import matplotlib.pyplot as plt\n",
    "\n",
    "print(tf.__version__)"
   ]
  },
  {
   "cell_type": "code",
   "execution_count": 5,
   "metadata": {},
   "outputs": [],
   "source": [
    "import os\n",
    "import sys\n",
    "module_path = os.path.abspath(os.path.join('..','util'))\n",
    "if module_path not in sys.path:\n",
    "    sys.path.append(module_path)\n",
    "\n",
    "import numpy as np\n",
    "import pandas as pd\n",
    "\n",
    "from datasetGenerator import getDataSet\n",
    "from datasetGenerator import getClass\n",
    "from sklearn.metrics import confusion_matrix, roc_curve, roc_auc_score\n",
    "\n",
    "from joblib import dump, load\n",
    "\n",
    "%load_ext autoreload\n",
    "%autoreload 2\n",
    "\n",
    "from numpy.random import seed\n",
    "seed(37)\n",
    "tf.random.set_seed(37)"
   ]
  },
  {
   "cell_type": "markdown",
   "metadata": {
    "colab_type": "text",
    "id": "yR0EdgrLCaWR"
   },
   "source": [
    "## Import the dataset"
   ]
  },
  {
   "cell_type": "code",
   "execution_count": 6,
   "metadata": {
    "colab": {},
    "colab_type": "code",
    "id": "7MqDQO0KCaWS"
   },
   "outputs": [],
   "source": [
    "\n",
    "trainDataset = pd.read_csv('../data/trainDatasetValues_R35.csv', index_col=0)\n",
    "trainLabels = pd.read_csv('../data/trainDatasetLabels_R35.csv', index_col=0).values.ravel()\n",
    "\n",
    "testDataset = pd.read_csv('../data/testDatasetValues_R35.csv', index_col=0).values\n",
    "testLabels = pd.read_csv('../data/testDatasetLabels_R35.csv', index_col=0).values.ravel()\n",
    "\n",
    "#Make sure binary classification\n",
    "trainLabels[np.where(trainLabels > 1)] =1\n",
    "\n",
    "testLabels[np.where(testLabels > 1)] = 1\n"
   ]
  },
  {
   "cell_type": "markdown",
   "metadata": {
    "colab_type": "text",
    "id": "Brm0b_KACaWX"
   },
   "source": [
    "## Explore the data\n",
    "\n",
    "Obtain training set and test set. \n",
    "Remove columns that are used for debugging purposes only"
   ]
  },
  {
   "cell_type": "code",
   "execution_count": 7,
   "metadata": {
    "colab": {},
    "colab_type": "code",
    "id": "zW5k_xz1CaWX"
   },
   "outputs": [
    {
     "data": {
      "text/plain": [
       "(34328, 14)"
      ]
     },
     "execution_count": 7,
     "metadata": {},
     "output_type": "execute_result"
    }
   ],
   "source": [
    "X_train = np.array(trainDataset.values[:, 3:]).astype(np.float32)\n",
    "y_train = np.array(trainLabels).astype(np.float32)\n",
    "\n",
    "\n",
    "X_test = np.array(testDataset[:, 3:]).astype(np.float32)\n",
    "y_test = np.array(testLabels).astype(np.float32)\n",
    "\n",
    "#train_images.shape\n",
    "X_train.shape\n",
    "#(37761, 14)"
   ]
  },
  {
   "cell_type": "markdown",
   "metadata": {},
   "source": [
    "## Load mean and std dev values to normalize data set"
   ]
  },
  {
   "cell_type": "markdown",
   "metadata": {},
   "source": [
    "StandarScaler to normalize data is constructed in SVM_and_Random_classifiers_R35 notebook"
   ]
  },
  {
   "cell_type": "code",
   "execution_count": 8,
   "metadata": {},
   "outputs": [],
   "source": [
    "scaler = load('./savedModels/scaler_35.joblib')\n",
    "X_train = scaler.transform(X_train)\n",
    "X_test = scaler.transform(X_test)"
   ]
  },
  {
   "cell_type": "markdown",
   "metadata": {
    "colab_type": "text",
    "id": "cIAcvQqMCaWf"
   },
   "source": [
    "Print labels amout of training set:"
   ]
  },
  {
   "cell_type": "code",
   "execution_count": 9,
   "metadata": {
    "colab": {},
    "colab_type": "code",
    "id": "TRFYHB2mCaWb"
   },
   "outputs": [
    {
     "data": {
      "text/plain": [
       "34328"
      ]
     },
     "execution_count": 9,
     "metadata": {},
     "output_type": "execute_result"
    }
   ],
   "source": [
    "#len(train_labels)\n",
    "len(trainLabels)"
   ]
  },
  {
   "cell_type": "markdown",
   "metadata": {
    "colab_type": "text",
    "id": "YSlYxFuRCaWk"
   },
   "source": [
    "Each label should be an integer between 0 and 1 <br>\n",
    "Prepare data type in TF format"
   ]
  },
  {
   "cell_type": "code",
   "execution_count": 10,
   "metadata": {
    "colab": {},
    "colab_type": "code",
    "id": "XKnCTHz4CaWg"
   },
   "outputs": [
    {
     "name": "stdout",
     "output_type": "stream",
     "text": [
      "[1 1 1 ... 0 0 0]\n"
     ]
    },
    {
     "data": {
      "text/plain": [
       "array([1, 1, 1, ..., 0, 0, 0], dtype=uint8)"
      ]
     },
     "execution_count": 10,
     "metadata": {},
     "output_type": "execute_result"
    }
   ],
   "source": [
    "#train_labels\n",
    "print(trainLabels)\n",
    "trainLabels = np.squeeze(trainLabels).astype(np.uint8)\n",
    "trainLabels"
   ]
  },
  {
   "cell_type": "markdown",
   "metadata": {
    "colab_type": "text",
    "id": "TMPI88iZpO2T"
   },
   "source": [
    "Every row represent a pixel. Each pixel is characterized by 14 features. Every feature is stored in a column"
   ]
  },
  {
   "cell_type": "code",
   "execution_count": 11,
   "metadata": {
    "colab": {},
    "colab_type": "code",
    "id": "2KFnYlcwCaWl"
   },
   "outputs": [
    {
     "data": {
      "text/plain": [
       "(9806, 14)"
      ]
     },
     "execution_count": 11,
     "metadata": {},
     "output_type": "execute_result"
    }
   ],
   "source": [
    "#test_images.shape\n",
    "testDataset[:, 3:].shape"
   ]
  },
  {
   "cell_type": "markdown",
   "metadata": {
    "colab_type": "text",
    "id": "rd0A0Iu0CaWq"
   },
   "source": [
    "Test labels should be an integer between 0 and 1 <br>\n",
    "Prepare data type in TF format"
   ]
  },
  {
   "cell_type": "code",
   "execution_count": 12,
   "metadata": {
    "colab": {},
    "colab_type": "code",
    "id": "iJmPr5-ACaWn"
   },
   "outputs": [
    {
     "name": "stdout",
     "output_type": "stream",
     "text": [
      "[1 1 1 ... 0 0 0]\n",
      "[1 1 1 ... 0 0 0]\n"
     ]
    },
    {
     "data": {
      "text/plain": [
       "9806"
      ]
     },
     "execution_count": 12,
     "metadata": {},
     "output_type": "execute_result"
    }
   ],
   "source": [
    "#len(test_labels)\n",
    "\n",
    "print(testLabels)\n",
    "testLabels = np.squeeze(testLabels).astype(np.uint8)\n",
    "print(testLabels)\n",
    "\n",
    "len(testLabels)"
   ]
  },
  {
   "cell_type": "markdown",
   "metadata": {
    "colab_type": "text",
    "id": "59veuiEZCaW4"
   },
   "source": [
    "## Build the MLP model\n"
   ]
  },
  {
   "cell_type": "markdown",
   "metadata": {
    "colab_type": "text",
    "id": "Gxg1XGm0eOBy"
   },
   "source": [
    "### Set up the layers\n"
   ]
  },
  {
   "cell_type": "code",
   "execution_count": 13,
   "metadata": {
    "colab": {},
    "colab_type": "code",
    "id": "9ODch-OFCaW4"
   },
   "outputs": [],
   "source": [
    "model = keras.Sequential([\n",
    "    keras.layers.Input(shape=(14,)),\n",
    "    keras.layers.Dense(31, activation='relu'),\n",
    "    keras.layers.Dense(68, activation='relu'),\n",
    "    keras.layers.Dense(13, activation='relu'),\n",
    "    keras.layers.Dense(7, activation='relu'),\n",
    "    keras.layers.Dense(1, activation='sigmoid')\n",
    "])"
   ]
  },
  {
   "cell_type": "markdown",
   "metadata": {
    "colab_type": "text",
    "id": "gut8A_7rCaW6"
   },
   "source": [
    "\n",
    "### Compile the model\n"
   ]
  },
  {
   "cell_type": "code",
   "execution_count": 14,
   "metadata": {
    "colab": {},
    "colab_type": "code",
    "id": "Lhan11blCaW7"
   },
   "outputs": [],
   "source": [
    "model.compile(optimizer='adam',\n",
    "              loss='binary_crossentropy',\n",
    "              metrics=['accuracy', 'TruePositives', 'TrueNegatives', 'FalseNegatives', 'FalsePositives'])"
   ]
  },
  {
   "cell_type": "markdown",
   "metadata": {
    "colab_type": "text",
    "id": "qKF6uW-BCaW-"
   },
   "source": [
    "## Train the model\n"
   ]
  },
  {
   "cell_type": "markdown",
   "metadata": {
    "colab_type": "text",
    "id": "Z4P4zIV7E28Z"
   },
   "source": [
    "\n",
    "To start training,  call the `model.fit` method—so called because it \"fits\" the model to the training data:"
   ]
  },
  {
   "cell_type": "code",
   "execution_count": 15,
   "metadata": {
    "colab": {},
    "colab_type": "code",
    "id": "xvwvpA64CaW_"
   },
   "outputs": [
    {
     "name": "stdout",
     "output_type": "stream",
     "text": [
      "Train on 34328 samples\n",
      "Epoch 1/37\n",
      "34328/34328 [==============================] - 4s 112us/sample - loss: 0.2425 - accuracy: 0.9078 - TruePositives: 15703.0000 - TrueNegatives: 15461.0000 - FalseNegatives: 1461.0000 - FalsePositives: 1703.0000\n",
      "Epoch 2/37\n",
      "34328/34328 [==============================] - 3s 73us/sample - loss: 0.2016 - accuracy: 0.9196 - TruePositives: 16061.0000 - TrueNegatives: 15506.0000 - FalseNegatives: 1103.0000 - FalsePositives: 1658.0000\n",
      "Epoch 3/37\n",
      "34328/34328 [==============================] - 2s 56us/sample - loss: 0.1954 - accuracy: 0.9222 - TruePositives: 16137.0000 - TrueNegatives: 15520.0000 - FalseNegatives: 1027.0000 - FalsePositives: 1644.0000\n",
      "Epoch 4/37\n",
      "34328/34328 [==============================] - 2s 73us/sample - loss: 0.1911 - accuracy: 0.9234 - TruePositives: 16169.0000 - TrueNegatives: 15531.0000 - FalseNegatives: 995.0000 - FalsePositives: 1633.0000\n",
      "Epoch 5/37\n",
      "34328/34328 [==============================] - 2s 59us/sample - loss: 0.1874 - accuracy: 0.9259 - TruePositives: 16238.0000 - TrueNegatives: 15548.0000 - FalseNegatives: 926.0000 - FalsePositives: 1616.0000\n",
      "Epoch 6/37\n",
      "34328/34328 [==============================] - 2s 58us/sample - loss: 0.1832 - accuracy: 0.9263 - TruePositives: 16234.0000 - TrueNegatives: 15564.0000 - FalseNegatives: 930.0000 - FalsePositives: 1600.0000\n",
      "Epoch 7/37\n",
      "34328/34328 [==============================] - 2s 59us/sample - loss: 0.1820 - accuracy: 0.9274 - TruePositives: 16269.0000 - TrueNegatives: 15568.0000 - FalseNegatives: 895.0000 - FalsePositives: 1596.0000\n",
      "Epoch 8/37\n",
      "34328/34328 [==============================] - 2s 55us/sample - loss: 0.1798 - accuracy: 0.9281 - TruePositives: 16268.0000 - TrueNegatives: 15592.0000 - FalseNegatives: 896.0000 - FalsePositives: 1572.0000\n",
      "Epoch 9/37\n",
      "34328/34328 [==============================] - 2s 64us/sample - loss: 0.1773 - accuracy: 0.9306 - TruePositives: 16310.0000 - TrueNegatives: 15636.0000 - FalseNegatives: 854.0000 - FalsePositives: 1528.0000\n",
      "Epoch 10/37\n",
      "34328/34328 [==============================] - 2s 59us/sample - loss: 0.1758 - accuracy: 0.9306 - TruePositives: 16318.0000 - TrueNegatives: 15626.0000 - FalseNegatives: 846.0000 - FalsePositives: 1538.0000\n",
      "Epoch 11/37\n",
      "34328/34328 [==============================] - 2s 53us/sample - loss: 0.1739 - accuracy: 0.9317 - TruePositives: 16360.0000 - TrueNegatives: 15622.0000 - FalseNegatives: 804.0000 - FalsePositives: 1542.0000\n",
      "Epoch 12/37\n",
      "34328/34328 [==============================] - 2s 53us/sample - loss: 0.1734 - accuracy: 0.9320 - TruePositives: 16351.0000 - TrueNegatives: 15642.0000 - FalseNegatives: 813.0000 - FalsePositives: 1522.0000\n",
      "Epoch 13/37\n",
      "34328/34328 [==============================] - 2s 53us/sample - loss: 0.1715 - accuracy: 0.9328 - TruePositives: 16353.0000 - TrueNegatives: 15668.0000 - FalseNegatives: 811.0000 - FalsePositives: 1496.0000\n",
      "Epoch 14/37\n",
      "34328/34328 [==============================] - 2s 53us/sample - loss: 0.1699 - accuracy: 0.9329 - TruePositives: 16362.0000 - TrueNegatives: 15661.0000 - FalseNegatives: 802.0000 - FalsePositives: 1503.0000\n",
      "Epoch 15/37\n",
      "34328/34328 [==============================] - 2s 53us/sample - loss: 0.1685 - accuracy: 0.9343 - TruePositives: 16383.0000 - TrueNegatives: 15690.0000 - FalseNegatives: 781.0000 - FalsePositives: 1474.0000\n",
      "Epoch 16/37\n",
      "34328/34328 [==============================] - 2s 53us/sample - loss: 0.1679 - accuracy: 0.9346 - TruePositives: 16375.0000 - TrueNegatives: 15708.0000 - FalseNegatives: 789.0000 - FalsePositives: 1456.0000\n",
      "Epoch 17/37\n",
      "34328/34328 [==============================] - 2s 52us/sample - loss: 0.1664 - accuracy: 0.9348 - TruePositives: 16406.0000 - TrueNegatives: 15684.0000 - FalseNegatives: 758.0000 - FalsePositives: 1480.0000\n",
      "Epoch 18/37\n",
      "34328/34328 [==============================] - 2s 52us/sample - loss: 0.1665 - accuracy: 0.9351 - TruePositives: 16418.0000 - TrueNegatives: 15681.0000 - FalseNegatives: 746.0000 - FalsePositives: 1483.0000\n",
      "Epoch 19/37\n",
      "34328/34328 [==============================] - 2s 52us/sample - loss: 0.1654 - accuracy: 0.9359 - TruePositives: 16402.0000 - TrueNegatives: 15725.0000 - FalseNegatives: 762.0000 - FalsePositives: 1439.0000\n",
      "Epoch 20/37\n",
      "34328/34328 [==============================] - 2s 52us/sample - loss: 0.1630 - accuracy: 0.9365 - TruePositives: 16429.0000 - TrueNegatives: 15718.0000 - FalseNegatives: 735.0000 - FalsePositives: 1446.0000\n",
      "Epoch 21/37\n",
      "34328/34328 [==============================] - 2s 52us/sample - loss: 0.1631 - accuracy: 0.9364 - TruePositives: 16411.0000 - TrueNegatives: 15734.0000 - FalseNegatives: 753.0000 - FalsePositives: 1430.0000\n",
      "Epoch 22/37\n",
      "34328/34328 [==============================] - 2s 52us/sample - loss: 0.1613 - accuracy: 0.9376 - TruePositives: 16444.0000 - TrueNegatives: 15743.0000 - FalseNegatives: 720.0000 - FalsePositives: 1421.0000\n",
      "Epoch 23/37\n",
      "34328/34328 [==============================] - 2s 52us/sample - loss: 0.1610 - accuracy: 0.9359 - TruePositives: 16419.0000 - TrueNegatives: 15710.0000 - FalseNegatives: 745.0000 - FalsePositives: 1454.0000\n",
      "Epoch 24/37\n",
      "34328/34328 [==============================] - 2s 52us/sample - loss: 0.1602 - accuracy: 0.9374 - TruePositives: 16444.0000 - TrueNegatives: 15735.0000 - FalseNegatives: 720.0000 - FalsePositives: 1429.0000\n",
      "Epoch 25/37\n",
      "34328/34328 [==============================] - 2s 54us/sample - loss: 0.1589 - accuracy: 0.9387 - TruePositives: 16461.0000 - TrueNegatives: 15763.0000 - FalseNegatives: 703.0000 - FalsePositives: 1401.0000\n",
      "Epoch 26/37\n",
      "34328/34328 [==============================] - 2s 54us/sample - loss: 0.1591 - accuracy: 0.9381 - TruePositives: 16446.0000 - TrueNegatives: 15756.0000 - FalseNegatives: 718.0000 - FalsePositives: 1408.0000\n",
      "Epoch 27/37\n",
      "34328/34328 [==============================] - 2s 57us/sample - loss: 0.1584 - accuracy: 0.9384 - TruePositives: 16455.0000 - TrueNegatives: 15759.0000 - FalseNegatives: 709.0000 - FalsePositives: 1405.0000\n",
      "Epoch 28/37\n",
      "34328/34328 [==============================] - 2s 56us/sample - loss: 0.1578 - accuracy: 0.9394 - TruePositives: 16492.0000 - TrueNegatives: 15755.0000 - FalseNegatives: 672.0000 - FalsePositives: 1409.0000\n",
      "Epoch 29/37\n",
      "34328/34328 [==============================] - 2s 53us/sample - loss: 0.1577 - accuracy: 0.9386 - TruePositives: 16469.0000 - TrueNegatives: 15750.0000 - FalseNegatives: 695.0000 - FalsePositives: 1414.0000\n",
      "Epoch 30/37\n",
      "34328/34328 [==============================] - 2s 67us/sample - loss: 0.1568 - accuracy: 0.9386 - TruePositives: 16464.0000 - TrueNegatives: 15755.0000 - FalseNegatives: 700.0000 - FalsePositives: 1409.0000\n",
      "Epoch 31/37\n",
      "34328/34328 [==============================] - 2s 57us/sample - loss: 0.1567 - accuracy: 0.9396 - TruePositives: 16483.0000 - TrueNegatives: 15770.0000 - FalseNegatives: 681.0000 - FalsePositives: 1394.0000\n",
      "Epoch 32/37\n",
      "34328/34328 [==============================] - 2s 52us/sample - loss: 0.1545 - accuracy: 0.9396 - TruePositives: 16497.0000 - TrueNegatives: 15758.0000 - FalseNegatives: 667.0000 - FalsePositives: 1406.0000\n",
      "Epoch 33/37\n",
      "34328/34328 [==============================] - 2s 52us/sample - loss: 0.1536 - accuracy: 0.9414 - TruePositives: 16512.0000 - TrueNegatives: 15803.0000 - FalseNegatives: 652.0000 - FalsePositives: 1361.0000\n",
      "Epoch 34/37\n",
      "34328/34328 [==============================] - 2s 53us/sample - loss: 0.1548 - accuracy: 0.9403 - TruePositives: 16498.0000 - TrueNegatives: 15782.0000 - FalseNegatives: 666.0000 - FalsePositives: 1382.0000\n",
      "Epoch 35/37\n",
      "34328/34328 [==============================] - 2s 54us/sample - loss: 0.1529 - accuracy: 0.9416 - TruePositives: 16509.0000 - TrueNegatives: 15813.0000 - FalseNegatives: 655.0000 - FalsePositives: 1351.0000\n",
      "Epoch 36/37\n",
      "34328/34328 [==============================] - 2s 55us/sample - loss: 0.1523 - accuracy: 0.9412 - TruePositives: 16507.0000 - TrueNegatives: 15804.0000 - FalseNegatives: 657.0000 - FalsePositives: 1360.0000\n",
      "Epoch 37/37\n",
      "34328/34328 [==============================] - 2s 52us/sample - loss: 0.1513 - accuracy: 0.9419 - TruePositives: 16509.0000 - TrueNegatives: 15824.0000 - FalseNegatives: 655.0000 - FalsePositives: 1340.0000\n"
     ]
    },
    {
     "data": {
      "text/plain": [
       "<tensorflow.python.keras.callbacks.History at 0x7f9ce7e070f0>"
      ]
     },
     "execution_count": 15,
     "metadata": {},
     "output_type": "execute_result"
    }
   ],
   "source": [
    "model.fit(np.asarray(X_train).astype(np.float32), trainLabels, epochs=37)\n"
   ]
  },
  {
   "cell_type": "markdown",
   "metadata": {
    "colab_type": "text",
    "id": "wCpr6DGyE28h"
   },
   "source": [
    "### Evaluate accuracy\n",
    "\n",
    "Next, compare how the model performs on the test dataset:"
   ]
  },
  {
   "cell_type": "code",
   "execution_count": 16,
   "metadata": {
    "colab": {},
    "colab_type": "code",
    "id": "VflXLEeECaXC"
   },
   "outputs": [
    {
     "name": "stdout",
     "output_type": "stream",
     "text": [
      "9806/9806 [==============================] - 1s 68us/sample - loss: 0.1723 - accuracy: 0.9358 - TruePositives: 4680.0000 - TrueNegatives: 4496.0000 - FalseNegatives: 222.0000 - FalsePositives: 408.0000\n",
      "\n",
      "Test accuracy: 0.93575364\n",
      "\n",
      "Predictions [[9.9460560e-01]\n",
      " [6.5338396e-02]\n",
      " [9.8156792e-01]\n",
      " ...\n",
      " [4.1259784e-11]\n",
      " [1.3735272e-03]\n",
      " [3.3876657e-10]]\n",
      "[[4496.0, 408.0], [222.0, 4680.0]]\n"
     ]
    }
   ],
   "source": [
    "\n",
    "predictions = model.predict(X_test)\n",
    "Loss, Accuracy, TruePositives, TrueNegatives, FalseNegatives, FalsePositives = model.evaluate(X_test,  y_test, verbose=1)\n",
    "\n",
    "print('\\nTest accuracy:', Accuracy)\n",
    "\n",
    "Cnf= [\n",
    "[TrueNegatives, FalsePositives],\n",
    "[FalseNegatives, TruePositives]\n",
    "]\n",
    "print('\\nPredictions',predictions)\n",
    "print(Cnf)\n"
   ]
  },
  {
   "cell_type": "markdown",
   "metadata": {},
   "source": [
    "### Verfiy confusion mattrix \n"
   ]
  },
  {
   "cell_type": "code",
   "execution_count": 17,
   "metadata": {},
   "outputs": [
    {
     "name": "stdout",
     "output_type": "stream",
     "text": [
      "1\n",
      "[1.]\n",
      "[[4496  408]\n",
      " [ 222 4680]]\n"
     ]
    },
    {
     "data": {
      "text/html": [
       "<div>\n",
       "<style scoped>\n",
       "    .dataframe tbody tr th:only-of-type {\n",
       "        vertical-align: middle;\n",
       "    }\n",
       "\n",
       "    .dataframe tbody tr th {\n",
       "        vertical-align: top;\n",
       "    }\n",
       "\n",
       "    .dataframe thead th {\n",
       "        text-align: right;\n",
       "    }\n",
       "</style>\n",
       "<table border=\"1\" class=\"dataframe\">\n",
       "  <thead>\n",
       "    <tr style=\"text-align: right;\">\n",
       "      <th></th>\n",
       "      <th>0</th>\n",
       "      <th>1</th>\n",
       "    </tr>\n",
       "  </thead>\n",
       "  <tbody>\n",
       "    <tr>\n",
       "      <th>0</th>\n",
       "      <td>91.680261</td>\n",
       "      <td>8.319739</td>\n",
       "    </tr>\n",
       "    <tr>\n",
       "      <th>1</th>\n",
       "      <td>4.528764</td>\n",
       "      <td>95.471236</td>\n",
       "    </tr>\n",
       "  </tbody>\n",
       "</table>\n",
       "</div>"
      ],
      "text/plain": [
       "           0          1\n",
       "0  91.680261   8.319739\n",
       "1   4.528764  95.471236"
      ]
     },
     "execution_count": 17,
     "metadata": {},
     "output_type": "execute_result"
    }
   ],
   "source": [
    "#con_mat = tf.keras.losses.binary_crossentropy(testLabels, predictions, from_logits=False, label_smoothing=0)\n",
    "\n",
    "predictions[predictions>0.5]=1\n",
    "print(testLabels[0])\n",
    "print(predictions[0])\n",
    "con_mat = tf.math.confusion_matrix(labels=y_test, predictions=predictions).numpy()\n",
    "print(con_mat)\n",
    "\n",
    "con_mat_norm = con_mat.astype('float') / con_mat.sum(axis=1)[:, np.newaxis]\n",
    " \n",
    "con_mat_df = pd.DataFrame(con_mat_norm,\n",
    "                     index = [0,1], \n",
    "                     columns = [0,1])*100\n",
    "con_mat_df"
   ]
  },
  {
   "cell_type": "markdown",
   "metadata": {},
   "source": [
    "### Export MLP model\n"
   ]
  },
  {
   "cell_type": "code",
   "execution_count": 18,
   "metadata": {},
   "outputs": [],
   "source": [
    "model.save('./savedModels/MLP_R35.h5')\n"
   ]
  },
  {
   "cell_type": "code",
   "execution_count": null,
   "metadata": {},
   "outputs": [],
   "source": []
  },
  {
   "cell_type": "code",
   "execution_count": null,
   "metadata": {},
   "outputs": [],
   "source": []
  }
 ],
 "metadata": {
  "colab": {
   "collapsed_sections": [],
   "name": "classification.ipynb",
   "private_outputs": true,
   "provenance": [],
   "toc_visible": true
  },
  "kernelspec": {
   "display_name": "Python 3",
   "language": "python",
   "name": "python3"
  },
  "language_info": {
   "codemirror_mode": {
    "name": "ipython",
    "version": 3
   },
   "file_extension": ".py",
   "mimetype": "text/x-python",
   "name": "python",
   "nbconvert_exporter": "python",
   "pygments_lexer": "ipython3",
   "version": "3.6.9"
  }
 },
 "nbformat": 4,
 "nbformat_minor": 1
}
