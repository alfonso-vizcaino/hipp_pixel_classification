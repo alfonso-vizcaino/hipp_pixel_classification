{
 "cells": [
  {
   "cell_type": "code",
   "execution_count": 1,
   "metadata": {},
   "outputs": [],
   "source": [
    "from sklearn.datasets import make_moons\n",
    "from sklearn.pipeline import Pipeline\n",
    "from sklearn.preprocessing import PolynomialFeatures, StandardScaler\n",
    "from sklearn.svm import LinearSVC, SVC, SVR\n",
    "from sklearn.model_selection import RandomizedSearchCV, cross_val_predict, cross_val_score\n",
    "from sklearn.model_selection import GridSearchCV, RandomizedSearchCV\n",
    "from sklearn.ensemble import RandomForestClassifier\n",
    "\n",
    "from sklearn.linear_model import SGDClassifier\n",
    "from scipy.stats import expon, reciprocal, loguniform\n",
    "\n",
    "import matplotlib.pyplot as plt\n",
    "\n",
    "from sklearn.metrics import confusion_matrix, precision_recall_curve, roc_curve, roc_auc_score\n",
    "from sklearn.metrics import precision_score, recall_score, f1_score, accuracy_score\n",
    "\n",
    "from joblib import dump, load"
   ]
  },
  {
   "cell_type": "code",
   "execution_count": 2,
   "metadata": {},
   "outputs": [],
   "source": [
    "import os\n",
    "import sys\n",
    "module_path = os.path.abspath(os.path.join('..'))\n",
    "if module_path not in sys.path:\n",
    "    sys.path.append(module_path)\n",
    "\n",
    "module_path = os.path.abspath(os.path.join('.'))\n",
    "if module_path not in sys.path:\n",
    "    sys.path.append(module_path)\n",
    "\n",
    "\n",
    "import numpy as np\n",
    "import pandas as pd\n",
    "\n",
    "%load_ext autoreload\n",
    "%autoreload 2\n",
    "\n",
    "np.random.seed(37)"
   ]
  },
  {
   "cell_type": "code",
   "execution_count": 3,
   "metadata": {},
   "outputs": [
    {
     "name": "stdout",
     "output_type": "stream",
     "text": [
      "trainDataset.shape\n",
      " (34328, 17)\n",
      "\n",
      "trainLabels.shape\n",
      " (34328,)\n",
      "\n",
      "testDataset.shape\n",
      " (9806, 14)\n",
      "\n",
      "testLabels.shape\n",
      " (9806,)\n",
      "\n"
     ]
    }
   ],
   "source": [
    "trainDataset = pd.read_csv('../data/trainDatasetValues_R35.csv', index_col=0)\n",
    "trainLabels = pd.read_csv('../data/trainDatasetLabels_R35.csv', index_col=0).values.ravel()\n",
    "\n",
    "testDataset = pd.read_csv('../data/testDatasetValues_R35.csv', index_col=0).values\n",
    "testLabels = pd.read_csv('../data/testDatasetLabels_R35.csv', index_col=0).values.ravel()\n",
    "\n",
    "#valDataset = pd.read_csv('../data/validationDatasetValues_R27.csv').values.ravel()\n",
    "#valLabels = pd.read_csv('../data/validationDatasetLabels_R27.csv').values.ravel()\n",
    "\n",
    "print(\"trainDataset.shape\\n\", trainDataset.shape)\n",
    "print(\"\")\n",
    "print(\"trainLabels.shape\\n\", trainLabels.shape)\n",
    "print(\"\")\n",
    "print(\"testDataset.shape\\n\", testDataset[:, 3:].shape)\n",
    "print(\"\")\n",
    "print(\"testLabels.shape\\n\", testLabels.shape)\n",
    "print(\"\")\n"
   ]
  },
  {
   "cell_type": "code",
   "execution_count": 4,
   "metadata": {},
   "outputs": [],
   "source": [
    "X_train = trainDataset.values[:, 3:]\n",
    "y_train = trainLabels\n",
    "\n",
    "\n",
    "X_test = testDataset[:, 3:]\n",
    "y_test = testLabels"
   ]
  },
  {
   "cell_type": "code",
   "execution_count": 5,
   "metadata": {},
   "outputs": [],
   "source": [
    "def plot_roc_curve(fpr, tpr, label=None):\n",
    "    plt.plot(fpr, tpr, linewidth=1, label=label)\n",
    "    plt.plot([0, 1], [0, 1], 'k--')\n",
    "    plt.axis([0, 1, 0, 1])\n",
    "    plt.xlabel('False Positive Rate')\n",
    "    plt.ylabel('True Positive Rate')"
   ]
  },
  {
   "cell_type": "code",
   "execution_count": 6,
   "metadata": {},
   "outputs": [],
   "source": [
    "scaler = load('./savedModels/scaler_35.joblib')\n",
    "X_train = scaler.transform(X_train)\n",
    "X_test = scaler.transform(X_test)"
   ]
  },
  {
   "cell_type": "code",
   "execution_count": 7,
   "metadata": {},
   "outputs": [],
   "source": [
    "def plot_precision_recall_vs_threshold(precisions, recalls, thresholds):\n",
    "    plt.plot(thresholds, precisions[:-1], \"b--\", label=\"Precision\")\n",
    "    plt.plot(thresholds, recalls[:-1], \"g-\", label=\"Recall\")\n",
    "    plt.xlabel(\"Threshold\")\n",
    "    plt.legend(loc=\"upper left\")\n",
    "    plt.ylim([0, 1])"
   ]
  },
  {
   "cell_type": "code",
   "execution_count": 8,
   "metadata": {},
   "outputs": [
    {
     "name": "stdout",
     "output_type": "stream",
     "text": [
      "RandomizedSearchCV(cv=5, error_score=nan,\n",
      "                   estimator=SVC(C=33, break_ties=False, cache_size=200,\n",
      "                                 class_weight=None, coef0=0.0,\n",
      "                                 decision_function_shape='ovr', degree=3,\n",
      "                                 gamma='auto', kernel='rbf', max_iter=-1,\n",
      "                                 probability=False, random_state=42,\n",
      "                                 shrinking=True, tol=0.001, verbose=False),\n",
      "                   iid='deprecated', n_iter=10, n_jobs=3,\n",
      "                   param_distributions={'C': array([681.53758115...\n",
      "        10.52718028,   4.08456043,  51.58586882,  43.35721399,\n",
      "       908.14677788,  10.11630821]),\n",
      "                                        'gamma': [681.537581148546,\n",
      "                                                  24.677122837088817,\n",
      "                                                  3.787782967895681,\n",
      "                                                  55.67812871318695,\n",
      "                                                  72.48574894335148,\n",
      "                                                  112.89430969912065,\n",
      "                                                  2.043208398464712,\n",
      "                                                  172.35635413452567,\n",
      "                                                  7.0135389018195236,\n",
      "                                                  182.08482850204575, 'scale',\n",
      "                                                  'auto']},\n",
      "                   pre_dispatch='2*n_jobs', random_state=42, refit=True,\n",
      "                   return_train_score=False, scoring=None, verbose=0)\n"
     ]
    }
   ],
   "source": [
    "rbf_kernl_svm = SVC(kernel=\"rbf\", gamma=\"auto\", C=33, random_state=42)\n",
    "\n",
    "np.random.seed(37)\n",
    "C=loguniform(1e0, 1e3).rvs(size=10)\n",
    "\n",
    "np.random.seed(37)\n",
    "values = np.concatenate([loguniform(1e0, 1e3).rvs(size=10), [\"scale\", \"auto\"]])\n",
    "gamma=[]\n",
    "for a in list(values):\n",
    "    try:\n",
    "        gamma.append(float(a))\n",
    "    except:\n",
    "        gamma.append(a)\n",
    "\n",
    "np.random.seed(563)\n",
    "coef0=loguniform(1e0, 1e3).rvs(size=10)\n",
    "\n",
    "param_grid = dict(\n",
    "    C=C,\n",
    "    gamma=gamma,\n",
    "    coef0=coef0\n",
    ")\n",
    "\n",
    "rbf_kernl_svm_clf = RandomizedSearchCV(rbf_kernl_svm, param_distributions=param_grid, n_jobs=3,  n_iter=10, cv=5, random_state=42)\n",
    "rbf_kernl_svm_clf.fit(X_train, y_train)\n",
    "\n",
    "print(rbf_kernl_svm_clf)"
   ]
  },
  {
   "cell_type": "code",
   "execution_count": 9,
   "metadata": {},
   "outputs": [
    {
     "name": "stdout",
     "output_type": "stream",
     "text": [
      "best_score_ 0.9262125859948501\n",
      "\n",
      "\n",
      "best_params_ {'gamma': 'scale', 'coef0': 1.0913642185491017, 'C': 182.08482850204575}\n",
      "\n"
     ]
    },
    {
     "data": {
      "image/png": "[encoded data removed]",
      "text/plain": [
       "<Figure size 432x288 with 1 Axes>"
      ]
     },
     "metadata": {
      "needs_background": "light"
     },
     "output_type": "display_data"
    },
    {
     "name": "stdout",
     "output_type": "stream",
     "text": [
      "[ 220 4682]\n",
      "\n",
      "Accuracy 0.9335\n",
      "Precision Score 0.9155\n",
      "Recall Score 0.9551\n",
      "F1 Score 0.9349\n"
     ]
    }
   ],
   "source": [
    "\n",
    "print(\"best_score_\", rbf_kernl_svm_clf.best_score_)\n",
    "print(\"\")\n",
    "print(\"\")\n",
    "print(\"best_params_\", rbf_kernl_svm_clf.best_params_)\n",
    "print(\"\")\n",
    "\n",
    "\n",
    "y_hat = rbf_kernl_svm_clf.predict(X_test)\n",
    "y_scores_psvm = cross_val_predict(rbf_kernl_svm_clf, X_test, y_test, cv=2, method=\"decision_function\")\n",
    "\n",
    "fpr_psvm, tpr_psvm, thresholds = roc_curve(y_test, y_scores_psvm)\n",
    "\n",
    "plot_roc_curve(fpr_psvm, tpr_psvm, \"Polinomial SVM\")\n",
    "plt.legend(loc=\"lower right\")\n",
    "plt.show()\n",
    "\n",
    "\n",
    "psvm_au = roc_auc_score(y_test, y_scores_psvm)\n",
    "\n",
    "y_hat[y_hat>=0.5] = 1 # make sure only binary data\n",
    "y_hat[y_hat<0.5] = 0  # gets evaluated\n",
    "\n",
    "ac = accuracy_score(y_test, y_hat)\n",
    "k,cm = confusion_matrix(y_test, y_hat)\n",
    "\n",
    "print(cm)\n",
    "print(\"\")\n",
    "\n",
    "ac = accuracy_score(y_test, y_hat)\n",
    "print(\"Accuracy {:.4f}\".format(ac))\n",
    "\n",
    "ps = precision_score(y_test, y_hat)\n",
    "print(\"Precision Score {:.4f}\".format(ps))\n",
    "\n",
    "rs = recall_score(y_test, y_hat)\n",
    "print(\"Recall Score {:.4f}\".format(rs))\n",
    "\n",
    "f1 = f1_score(y_test, y_hat)\n",
    "print(\"F1 Score {:.4f}\".format(f1))\n"
   ]
  },
  {
   "cell_type": "code",
   "execution_count": 11,
   "metadata": {},
   "outputs": [
    {
     "data": {
      "image/png": "[encoded data removed]",
      "text/plain": [
       "<Figure size 432x288 with 1 Axes>"
      ]
     },
     "metadata": {
      "needs_background": "light"
     },
     "output_type": "display_data"
    },
    {
     "name": "stdout",
     "output_type": "stream",
     "text": [
      "[ 220 4682]\n",
      "\n",
      "Accuracy 0.9335\n",
      "Precision Score 0.9155\n",
      "Recall Score 0.9551\n",
      "F1 Score 0.9349\n"
     ]
    }
   ],
   "source": [
    "rbf_kernl_svm_clf = SVC(kernel=\"rbf\", gamma = \"scale\", coef0 = 1.09, C = 182, random_state=42)\n",
    "\n",
    "rbf_kernl_svm_clf.fit(X_train, y_train)\n",
    "\n",
    "y_hat = rbf_kernl_svm_clf.predict(X_test)\n",
    "y_scores_psvm = cross_val_predict(rbf_kernl_svm_clf, X_test, y_test, cv=15, method=\"decision_function\")\n",
    "\n",
    "psvm_au = roc_auc_score(y_test, y_scores_psvm)\n",
    "fpr_psvm, tpr_psvm, thresholds = roc_curve(y_test, y_scores_psvm)\n",
    "\n",
    "plot_roc_curve(fpr_psvm, tpr_psvm, \"SVM poly char {:.4f}\".format(psvm_au))\n",
    "plt.legend(loc=\"lower right\")\n",
    "plt.show()\n",
    "\n",
    "y_hat[y_hat>=0.5] = 1 # make sure only binary data\n",
    "y_hat[y_hat<0.5] = 0  # gets evaluated\n",
    "\n",
    "k,cm = confusion_matrix(y_test, y_hat)\n",
    "\n",
    "print(cm)\n",
    "print(\"\")\n",
    "\n",
    "ac = accuracy_score(y_test, y_hat)\n",
    "print(\"Accuracy {:.4f}\".format(ac))\n",
    "\n",
    "ps = precision_score(y_test, y_hat)\n",
    "print(\"Precision Score {:.4f}\".format(ps))\n",
    "\n",
    "rs = recall_score(y_test, y_hat)\n",
    "print(\"Recall Score {:.4f}\".format(rs))\n",
    "\n",
    "f1 = f1_score(y_test, y_hat)\n",
    "print(\"F1 Score {:.4f}\".format(f1))\n"
   ]
  },
  {
   "cell_type": "code",
   "execution_count": 13,
   "metadata": {},
   "outputs": [
    {
     "data": {
      "text/plain": [
       "['./savedModels/rbf_kernl_svm_clf_35_2.joblib']"
      ]
     },
     "execution_count": 13,
     "metadata": {},
     "output_type": "execute_result"
    }
   ],
   "source": [
    "dump(rbf_kernl_svm_clf, './savedModels/rbf_kernl_svm_clf_35_2.joblib') "
   ]
  }
 ],
 "metadata": {
  "kernelspec": {
   "display_name": "Python 3",
   "language": "python",
   "name": "python3"
  },
  "language_info": {
   "codemirror_mode": {
    "name": "ipython",
    "version": 3
   },
   "file_extension": ".py",
   "mimetype": "text/x-python",
   "name": "python",
   "nbconvert_exporter": "python",
   "pygments_lexer": "ipython3",
   "version": "3.6.9"
  }
 },
 "nbformat": 4,
 "nbformat_minor": 4
}
