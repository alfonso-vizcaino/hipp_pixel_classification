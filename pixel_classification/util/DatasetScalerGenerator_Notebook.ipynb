{
 "cells": [
  {
   "cell_type": "markdown",
   "metadata": {},
   "source": [
    "## Create a StandarScaler to normalize data"
   ]
  },
  {
   "cell_type": "code",
   "execution_count": 1,
   "metadata": {},
   "outputs": [],
   "source": [
    "from sklearn.preprocessing import StandardScaler\n",
    "\n",
    "from joblib import dump, load"
   ]
  },
  {
   "cell_type": "code",
   "execution_count": 2,
   "metadata": {},
   "outputs": [],
   "source": [
    "import os\n",
    "import sys\n",
    "module_path = os.path.abspath(os.path.join('..', 'util'))\n",
    "if module_path not in sys.path:\n",
    "    sys.path.append(module_path)\n",
    "\n",
    "import numpy as np\n",
    "import pandas as pd\n",
    "\n",
    "%load_ext autoreload\n",
    "%autoreload 2\n",
    "\n",
    "np.random.seed(37)"
   ]
  },
  {
   "cell_type": "markdown",
   "metadata": {},
   "source": [
    "## Load dataset"
   ]
  },
  {
   "cell_type": "code",
   "execution_count": 3,
   "metadata": {},
   "outputs": [
    {
     "name": "stdout",
     "output_type": "stream",
     "text": [
      "trainDataset.shape\n",
      " (34328, 17)\n",
      "\n"
     ]
    }
   ],
   "source": [
    "trainDataset = pd.read_csv('../data/trainDatasetValues_R35.csv', index_col=0)\n",
    "\n",
    "print(\"trainDataset.shape\\n\", trainDataset.shape)\n",
    "print(\"\")\n"
   ]
  },
  {
   "cell_type": "markdown",
   "metadata": {},
   "source": [
    "### Remove debug columns from dataset"
   ]
  },
  {
   "cell_type": "code",
   "execution_count": 4,
   "metadata": {},
   "outputs": [],
   "source": [
    "X_train = trainDataset.values[:, 3:]"
   ]
  },
  {
   "cell_type": "markdown",
   "metadata": {},
   "source": [
    "## Create a scaler for 14-D feature vector"
   ]
  },
  {
   "cell_type": "code",
   "execution_count": 5,
   "metadata": {},
   "outputs": [
    {
     "name": "stdout",
     "output_type": "stream",
     "text": [
      "scales  [10.84527661 15.23437844  8.78812229  4.71957716 10.84527661  1.01718539\n",
      "  2.15219797 17.45391804 17.22343789 10.56726493  6.01296378 21.08002144\n",
      "  0.13854295  0.96243233]\n",
      "means  [ 7.50722442 11.616756    3.66081462  4.80732173  7.50722442  0.34113163\n",
      " -0.17372667 16.17064787 13.28708343  4.27210448  6.58736202 70.57265206\n",
      " -1.05851911 -5.63386636]\n",
      "variance  [1.17620025e+02 2.32086286e+02 7.72310934e+01 2.22744086e+01\n",
      " 1.17620025e+02 1.03466612e+00 4.63195608e+00 3.04639255e+02\n",
      " 2.96646813e+02 1.11667088e+02 3.61557335e+01 4.44367304e+02\n",
      " 1.91941501e-02 9.26275982e-01]\n"
     ]
    }
   ],
   "source": [
    "scaler = StandardScaler()\n",
    "X_train = scaler.fit_transform(X_train)\n",
    "\n",
    "print(\"scales \",scaler.scale_)\n",
    "print(\"means \",scaler.mean_)\n",
    "print(\"variance \",scaler.var_)"
   ]
  },
  {
   "cell_type": "markdown",
   "metadata": {},
   "source": [
    "## Export 14-D feature vector scaler\n"
   ]
  },
  {
   "cell_type": "code",
   "execution_count": null,
   "metadata": {},
   "outputs": [],
   "source": [
    "breakpoint ##stop execution here to prevent accidental overwrite with \"Run All\" action"
   ]
  },
  {
   "cell_type": "code",
   "execution_count": null,
   "metadata": {},
   "outputs": [],
   "source": [
    "dump(scaler, '../savedModels/scaler_35.joblib')"
   ]
  },
  {
   "cell_type": "markdown",
   "metadata": {},
   "source": [
    "## Create a scaler for 7-D feature vector"
   ]
  },
  {
   "cell_type": "markdown",
   "metadata": {},
   "source": [
    "### Remove debug columns and use the first seven features from dataset"
   ]
  },
  {
   "cell_type": "code",
   "execution_count": 6,
   "metadata": {},
   "outputs": [],
   "source": [
    "X_train = trainDataset.values[:, 3:10]"
   ]
  },
  {
   "cell_type": "code",
   "execution_count": 7,
   "metadata": {},
   "outputs": [
    {
     "name": "stdout",
     "output_type": "stream",
     "text": [
      "scales  [10.84527661 15.23437844  8.78812229  4.71957716 10.84527661  1.01718539\n",
      "  2.15219797]\n",
      "means  [ 7.50722442 11.616756    3.66081462  4.80732173  7.50722442  0.34113163\n",
      " -0.17372667]\n",
      "variance  [117.62002471 232.08628647  77.23109339  22.27440861 117.62002471\n",
      "   1.03466612   4.63195608]\n"
     ]
    }
   ],
   "source": [
    "scaler = StandardScaler()\n",
    "X_train = scaler.fit_transform(X_train)\n",
    "\n",
    "print(\"scales \",scaler.scale_)\n",
    "print(\"means \",scaler.mean_)\n",
    "print(\"variance \",scaler.var_)"
   ]
  },
  {
   "cell_type": "markdown",
   "metadata": {},
   "source": [
    "## Export 7-D feature vector scaler\n"
   ]
  },
  {
   "cell_type": "code",
   "execution_count": null,
   "metadata": {},
   "outputs": [],
   "source": [
    "breakpoint ##stop execution here to prevent accidental overwrite with \"Run All\" action"
   ]
  },
  {
   "cell_type": "code",
   "execution_count": null,
   "metadata": {},
   "outputs": [],
   "source": [
    "dump(scaler, '../savedModels/scaler_35_7D.joblib')"
   ]
  }
 ],
 "metadata": {
  "kernelspec": {
   "display_name": "Python 3",
   "language": "python",
   "name": "python3"
  },
  "language_info": {
   "codemirror_mode": {
    "name": "ipython",
    "version": 3
   },
   "file_extension": ".py",
   "mimetype": "text/x-python",
   "name": "python",
   "nbconvert_exporter": "python",
   "pygments_lexer": "ipython3",
   "version": "3.6.9"
  }
 },
 "nbformat": 4,
 "nbformat_minor": 4
}
