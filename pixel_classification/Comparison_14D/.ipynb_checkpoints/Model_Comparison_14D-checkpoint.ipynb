{
 "cells": [
  {
   "cell_type": "markdown",
   "metadata": {},
   "source": [
    "# Comparision among Hippocampus pixel classifiers"
   ]
  },
  {
   "cell_type": "markdown",
   "metadata": {},
   "source": [
    "## Load libraries"
   ]
  },
  {
   "cell_type": "code",
   "execution_count": 1,
   "metadata": {},
   "outputs": [],
   "source": [
    "from sklearn.datasets import make_moons\n",
    "from sklearn.pipeline import Pipeline\n",
    "from sklearn.preprocessing import PolynomialFeatures, StandardScaler\n",
    "from sklearn.svm import LinearSVC, SVC, SVR\n",
    "from sklearn.model_selection import RandomizedSearchCV, cross_val_predict, cross_val_score\n",
    "\n",
    "from sklearn.ensemble import RandomForestClassifier\n",
    "\n",
    "from sklearn.linear_model import SGDClassifier\n",
    "from scipy.stats import expon, reciprocal\n",
    "\n",
    "import matplotlib.pyplot as plt\n",
    "\n",
    "from sklearn.metrics import confusion_matrix, precision_recall_curve, roc_curve, roc_auc_score\n",
    "from sklearn.metrics import precision_score, recall_score, f1_score, accuracy_score\n",
    "\n",
    "import numpy as np\n",
    "import pandas as pd"
   ]
  },
  {
   "cell_type": "code",
   "execution_count": 2,
   "metadata": {},
   "outputs": [],
   "source": [
    "import os\n",
    "import sys\n",
    "module_path = os.path.abspath(os.path.join('..'))\n",
    "if module_path not in sys.path:\n",
    "    sys.path.append(module_path)\n",
    "    \n",
    "module_path = os.path.abspath(os.path.join('.'))\n",
    "if module_path not in sys.path:\n",
    "    sys.path.append(module_path)\n",
    "\n",
    "%load_ext autoreload\n",
    "%autoreload 2"
   ]
  },
  {
   "cell_type": "code",
   "execution_count": 3,
   "metadata": {},
   "outputs": [],
   "source": [
    "# TensorFlow and tf.keras\n",
    "import tensorflow as tf\n",
    "from tensorflow import keras\n",
    "\n",
    "from joblib import dump, load\n",
    "\n",
    "from tensorflow.keras.models import Sequential, load_model\n",
    "from tensorflow.keras.layers import Dense\n",
    "from tensorflow.keras.optimizers import RMSprop\n",
    "from tensorflow.keras.losses import MSE\n",
    "\n",
    "from rbflayer import RBFLayer, InitCentersRandom\n",
    "from kmeans_initializer import InitCentersKMeans\n",
    "from initializer import InitFromFile"
   ]
  },
  {
   "cell_type": "markdown",
   "metadata": {},
   "source": [
    "## Load dataset"
   ]
  },
  {
   "cell_type": "code",
   "execution_count": 4,
   "metadata": {},
   "outputs": [
    {
     "name": "stdout",
     "output_type": "stream",
     "text": [
      "valDataset.shape\n",
      " (4906, 14)\n",
      "\n",
      "valLabels.shape\n",
      " (4906,)\n",
      "\n"
     ]
    }
   ],
   "source": [
    "\n",
    "\n",
    "valDataset = pd.read_csv('../data/validationDatasetValues_R35.csv', index_col=0)\n",
    "valLabels = pd.read_csv('../data/validationDatasetLabels_R35.csv', index_col=0).values.ravel()\n",
    "valLabels[valLabels>1]=1\n",
    "\n",
    "print(\"valDataset.shape\\n\", valDataset.values[:,3:].shape)\n",
    "print(\"\")\n",
    "print(\"valLabels.shape\\n\", valLabels.shape)\n",
    "print(\"\")\n",
    "\n",
    "X_val = valDataset.values\n",
    "y_val = valLabels"
   ]
  },
  {
   "cell_type": "markdown",
   "metadata": {},
   "source": [
    "## Load StandarScaler and normalize -transform- data with learned meand and std dev"
   ]
  },
  {
   "cell_type": "code",
   "execution_count": 5,
   "metadata": {},
   "outputs": [],
   "source": [
    "scaler = load('./savedModels/scaler_35.joblib')\n",
    "X_values = X_val[:,3:]\n",
    "X_values = scaler.transform(X_values)"
   ]
  },
  {
   "cell_type": "markdown",
   "metadata": {},
   "source": [
    "## Helper functions"
   ]
  },
  {
   "cell_type": "markdown",
   "metadata": {},
   "source": [
    "### helper function for plotting model's roc_cure"
   ]
  },
  {
   "cell_type": "code",
   "execution_count": 6,
   "metadata": {},
   "outputs": [],
   "source": [
    "markers = [\".\",\",\",\"o\",\"v\",\"^\",\"<\",\">\"]\n",
    "m = 0\n",
    "def plot_roc_curve(fpr, tpr, label=None):\n",
    "    global m\n",
    "    plt.plot(fpr, tpr, linewidth=1, label=label) #,  marker=markers[m], markevery=50+(m+1))\n",
    "    plt.plot([0, 1], [0, 1], 'k--')\n",
    "    plt.axis([0, 1, 0, 1])\n",
    "    plt.xlabel('False Positive Rate')\n",
    "    plt.ylabel('True Positive Rate')\n",
    "    plt.legend(loc=\"lower right\")\n",
    "    m += 1"
   ]
  },
  {
   "cell_type": "markdown",
   "metadata": {},
   "source": [
    "### helper function for calculating model's metrics"
   ]
  },
  {
   "cell_type": "code",
   "execution_count": 7,
   "metadata": {},
   "outputs": [],
   "source": [
    "def get_stats(model, title=\"\"):\n",
    "    print(model)\n",
    "    \n",
    "    if hasattr(model, 'decision_function') : \n",
    "        y_hat = cross_val_predict(model, X_values, y_val, cv=3, method=\"decision_function\")\n",
    "    elif hasattr(model, 'get_params') :\n",
    "        y_hat = cross_val_predict(model, X_values, y_val, cv=3, method=\"predict_proba\")\n",
    "        y_hat = y_hat[:, 1] # score = proba of positive class\n",
    "    else :\n",
    "        X_v = np.asarray(X_values).astype(np.float32)\n",
    "        y_hat = model.predict(X_v)\n",
    "        model.evaluate(X_values,  y_val, verbose=1)\n",
    "        \n",
    "    \n",
    "    au = roc_auc_score(y_val, y_hat)\n",
    "    fpr, tpr, thresholds = roc_curve(y_val, y_hat)\n",
    "    plot_roc_curve(fpr, tpr, title + \" {:.4f}\".format(au))\n",
    "    \n",
    "        \n",
    "    \n",
    "    y_hat = model.predict(X_values)\n",
    "    y_hat[y_hat>=0.5] = 1 # make sure only binary data\n",
    "    y_hat[y_hat<0.5] = 0  # gets evaluated\n",
    "    \n",
    "    ac = accuracy_score(y_val, y_hat)\n",
    "    ps = precision_score(y_val, y_hat)\n",
    "    rs = recall_score(y_val, y_hat)\n",
    "    f1 = f1_score(y_val, y_hat)\n",
    "    cm = confusion_matrix(y_val, y_hat)\n",
    "    \n",
    "    return [ac, au, f1, ps, rs, cm]"
   ]
  },
  {
   "cell_type": "markdown",
   "metadata": {},
   "source": [
    "## Load models"
   ]
  },
  {
   "cell_type": "code",
   "execution_count": 8,
   "metadata": {},
   "outputs": [],
   "source": [
    "forest_clf = load('./savedModels/forest_clf_35.joblib') \n",
    "lsvm_clf = load('./savedModels/lsvm_clf_35.joblib') \n",
    "polynomial_svm_clf = load('./savedModels/polynomial_svm_clf_35.joblib')\n",
    "polK_svm_clf = load('./savedModels/polK_svm_clf_35.joblib') \n",
    "grbf_svm_clf = load('./savedModels/grbf_svm_clf_35.joblib') \n",
    "mlp = keras.models.load_model('./savedModels/MLP_R35.h5')\n",
    "nn_rbf = load_model('./savedModels/RBFN_R35.h5', custom_objects={'RBFLayer': RBFLayer})"
   ]
  },
  {
   "cell_type": "markdown",
   "metadata": {},
   "source": [
    "## Fetch metrics and plot roc curve"
   ]
  },
  {
   "cell_type": "code",
   "execution_count": 9,
   "metadata": {},
   "outputs": [
    {
     "name": "stdout",
     "output_type": "stream",
     "text": [
      "RandomForestClassifier(bootstrap=True, ccp_alpha=0.0, class_weight=None,\n",
      "                       criterion='gini', max_depth=None, max_features='auto',\n",
      "                       max_leaf_nodes=None, max_samples=None,\n",
      "                       min_impurity_decrease=0.0, min_impurity_split=None,\n",
      "                       min_samples_leaf=1, min_samples_split=2,\n",
      "                       min_weight_fraction_leaf=0.0, n_estimators=100,\n",
      "                       n_jobs=None, oob_score=False, random_state=42, verbose=0,\n",
      "                       warm_start=False)\n",
      "LinearSVC(C=182, class_weight=None, dual=True, fit_intercept=True,\n",
      "          intercept_scaling=1, loss='squared_hinge', max_iter=8900,\n",
      "          multi_class='ovr', penalty='l2', random_state=42, tol=0.0001,\n",
      "          verbose=0)\n"
     ]
    },
    {
     "name": "stderr",
     "output_type": "stream",
     "text": [
      "/usr/local/lib/python3.6/dist-packages/sklearn/svm/_base.py:947: ConvergenceWarning: Liblinear failed to converge, increase the number of iterations.\n",
      "  \"the number of iterations.\", ConvergenceWarning)\n",
      "/usr/local/lib/python3.6/dist-packages/sklearn/svm/_base.py:947: ConvergenceWarning: Liblinear failed to converge, increase the number of iterations.\n",
      "  \"the number of iterations.\", ConvergenceWarning)\n",
      "/usr/local/lib/python3.6/dist-packages/sklearn/svm/_base.py:947: ConvergenceWarning: Liblinear failed to converge, increase the number of iterations.\n",
      "  \"the number of iterations.\", ConvergenceWarning)\n"
     ]
    },
    {
     "name": "stdout",
     "output_type": "stream",
     "text": [
      "Pipeline(memory=None,\n",
      "         steps=[('poly_features',\n",
      "                 PolynomialFeatures(degree=2, include_bias=True,\n",
      "                                    interaction_only=False, order='C')),\n",
      "                ('svm_clf',\n",
      "                 LinearSVC(C=172, class_weight=None, dual=False,\n",
      "                           fit_intercept=True, intercept_scaling=1,\n",
      "                           loss='squared_hinge', max_iter=1000,\n",
      "                           multi_class='ovr', penalty='l2', random_state=42,\n",
      "                           tol=0.0001, verbose=0))],\n",
      "         verbose=False)\n"
     ]
    },
    {
     "name": "stderr",
     "output_type": "stream",
     "text": [
      "/usr/local/lib/python3.6/dist-packages/sklearn/svm/_base.py:947: ConvergenceWarning: Liblinear failed to converge, increase the number of iterations.\n",
      "  \"the number of iterations.\", ConvergenceWarning)\n",
      "/usr/local/lib/python3.6/dist-packages/sklearn/svm/_base.py:947: ConvergenceWarning: Liblinear failed to converge, increase the number of iterations.\n",
      "  \"the number of iterations.\", ConvergenceWarning)\n"
     ]
    },
    {
     "name": "stdout",
     "output_type": "stream",
     "text": [
      "SVC(C=2.1, break_ties=False, cache_size=200, class_weight=None, coef0=40,\n",
      "    decision_function_shape='ovr', degree=3, gamma='scale', kernel='poly',\n",
      "    max_iter=-1, probability=False, random_state=42, shrinking=True, tol=0.001,\n",
      "    verbose=False)\n",
      "SVC(C=182, break_ties=False, cache_size=200, class_weight=None, coef0=1.09,\n",
      "    decision_function_shape='ovr', degree=3, gamma='scale', kernel='rbf',\n",
      "    max_iter=-1, probability=False, random_state=42, shrinking=True, tol=0.001,\n",
      "    verbose=False)\n",
      "<tensorflow.python.keras.engine.sequential.Sequential object at 0x7fb53a1e2c50>\n",
      "4906/4906 [==============================] - 1s 255us/sample - loss: 0.1599 - accuracy: 0.9405 - TruePositives: 2350.0000 - TrueNegatives: 2264.0000 - FalseNegatives: 104.0000 - FalsePositives: 188.0000\n",
      "<tensorflow.python.keras.engine.sequential.Sequential object at 0x7fb4a8c2f358>\n",
      "4906/4906 [==============================] - 1s 268us/sample - loss: 0.0529 - accuracy: 0.9315 - TruePositives: 2355.0000 - TrueNegatives: 2215.0000 - FalseNegatives: 99.0000 - FalsePositives: 237.0000\n"
     ]
    },
    {
     "data": {
      "image/png": "[encoded data removed]",
      "text/plain": [
       "<Figure size 1440x720 with 1 Axes>"
      ]
     },
     "metadata": {
      "needs_background": "light"
     },
     "output_type": "display_data"
    }
   ],
   "source": [
    "plt.figure(figsize=(20,10))\n",
    "\n",
    "stats = []\n",
    "\n",
    "stats.append(get_stats(forest_clf, \"Random Forest\"))\n",
    "stats.append(get_stats(lsvm_clf, \"SVM Lineal\"))\n",
    "stats.append(get_stats(polynomial_svm_clf, \"SVM Poly feat\"))\n",
    "stats.append(get_stats(polK_svm_clf, \"SVM Poly kern\"))\n",
    "stats.append(get_stats(grbf_svm_clf, \"SVM RBF kern\"))\n",
    "stats.append(get_stats(mlp, \"MLP\"))\n",
    "stats.append(get_stats(nn_rbf, \"RBFN\"))"
   ]
  },
  {
   "cell_type": "markdown",
   "metadata": {},
   "source": [
    "### Print metrics"
   ]
  },
  {
   "cell_type": "code",
   "execution_count": 10,
   "metadata": {},
   "outputs": [
    {
     "data": {
      "text/html": [
       "<div>\n",
       "<style scoped>\n",
       "    .dataframe tbody tr th:only-of-type {\n",
       "        vertical-align: middle;\n",
       "    }\n",
       "\n",
       "    .dataframe tbody tr th {\n",
       "        vertical-align: top;\n",
       "    }\n",
       "\n",
       "    .dataframe thead th {\n",
       "        text-align: right;\n",
       "    }\n",
       "</style>\n",
       "<table border=\"1\" class=\"dataframe\">\n",
       "  <thead>\n",
       "    <tr style=\"text-align: right;\">\n",
       "      <th></th>\n",
       "      <th>Model</th>\n",
       "      <th>Accuracy</th>\n",
       "      <th>AUC</th>\n",
       "      <th>F1</th>\n",
       "      <th>Precision Score</th>\n",
       "      <th>Recall Score</th>\n",
       "    </tr>\n",
       "  </thead>\n",
       "  <tbody>\n",
       "    <tr>\n",
       "      <th>5</th>\n",
       "      <td>MLP</td>\n",
       "      <td>0.940481</td>\n",
       "      <td>0.982761</td>\n",
       "      <td>0.941506</td>\n",
       "      <td>0.925926</td>\n",
       "      <td>0.95762</td>\n",
       "    </tr>\n",
       "    <tr>\n",
       "      <th>4</th>\n",
       "      <td>SVM RBF kern</td>\n",
       "      <td>0.939462</td>\n",
       "      <td>0.957067</td>\n",
       "      <td>0.940683</td>\n",
       "      <td>0.922444</td>\n",
       "      <td>0.959658</td>\n",
       "    </tr>\n",
       "    <tr>\n",
       "      <th>0</th>\n",
       "      <td>Random Forest</td>\n",
       "      <td>0.937627</td>\n",
       "      <td>0.965623</td>\n",
       "      <td>0.938579</td>\n",
       "      <td>0.924842</td>\n",
       "      <td>0.95273</td>\n",
       "    </tr>\n",
       "    <tr>\n",
       "      <th>3</th>\n",
       "      <td>SVM Poly kern</td>\n",
       "      <td>0.935997</td>\n",
       "      <td>0.956352</td>\n",
       "      <td>0.937325</td>\n",
       "      <td>0.918623</td>\n",
       "      <td>0.956805</td>\n",
       "    </tr>\n",
       "    <tr>\n",
       "      <th>2</th>\n",
       "      <td>SVM Poly feat</td>\n",
       "      <td>0.931512</td>\n",
       "      <td>0.961692</td>\n",
       "      <td>0.932934</td>\n",
       "      <td>0.914319</td>\n",
       "      <td>0.952323</td>\n",
       "    </tr>\n",
       "    <tr>\n",
       "      <th>6</th>\n",
       "      <td>RBFN</td>\n",
       "      <td>0.931512</td>\n",
       "      <td>0.977904</td>\n",
       "      <td>0.933413</td>\n",
       "      <td>0.908565</td>\n",
       "      <td>0.959658</td>\n",
       "    </tr>\n",
       "    <tr>\n",
       "      <th>1</th>\n",
       "      <td>SVM Lineal</td>\n",
       "      <td>0.918875</td>\n",
       "      <td>0.957855</td>\n",
       "      <td>0.920368</td>\n",
       "      <td>0.904088</td>\n",
       "      <td>0.937245</td>\n",
       "    </tr>\n",
       "  </tbody>\n",
       "</table>\n",
       "</div>"
      ],
      "text/plain": [
       "           Model  Accuracy       AUC        F1 Precision Score Recall Score\n",
       "5            MLP  0.940481  0.982761  0.941506        0.925926      0.95762\n",
       "4   SVM RBF kern  0.939462  0.957067  0.940683        0.922444     0.959658\n",
       "0  Random Forest  0.937627  0.965623  0.938579        0.924842      0.95273\n",
       "3  SVM Poly kern  0.935997  0.956352  0.937325        0.918623     0.956805\n",
       "2  SVM Poly feat  0.931512  0.961692  0.932934        0.914319     0.952323\n",
       "6           RBFN  0.931512  0.977904  0.933413        0.908565     0.959658\n",
       "1     SVM Lineal  0.918875  0.957855  0.920368        0.904088     0.937245"
      ]
     },
     "execution_count": 10,
     "metadata": {},
     "output_type": "execute_result"
    }
   ],
   "source": [
    "stats = np.array(stats)\n",
    "\n",
    "models = pd.DataFrame({'Model': [\"Random Forest\", \"SVM Lineal\", \"SVM Poly feat\", \"SVM Poly kern\", \"SVM RBF kern\", \"MLP\", \"RBFN\"]}) #\n",
    "metrics = pd.DataFrame(data=stats[:,:-1], columns=[\"Accuracy\", \"AUC\", \"F1\", \"Precision Score\", \"Recall Score\"])\n",
    "\n",
    "models = pd.concat([models, metrics], axis=1).sort_values(by=[\"Accuracy\"],ascending=False)\n",
    "models"
   ]
  },
  {
   "cell_type": "code",
   "execution_count": null,
   "metadata": {},
   "outputs": [],
   "source": []
  },
  {
   "cell_type": "code",
   "execution_count": null,
   "metadata": {},
   "outputs": [],
   "source": []
  },
  {
   "cell_type": "code",
   "execution_count": null,
   "metadata": {},
   "outputs": [],
   "source": []
  },
  {
   "cell_type": "code",
   "execution_count": null,
   "metadata": {},
   "outputs": [],
   "source": []
  }
 ],
 "metadata": {
  "kernelspec": {
   "display_name": "Python 3",
   "language": "python",
   "name": "python3"
  },
  "language_info": {
   "codemirror_mode": {
    "name": "ipython",
    "version": 3
   },
   "file_extension": ".py",
   "mimetype": "text/x-python",
   "name": "python",
   "nbconvert_exporter": "python",
   "pygments_lexer": "ipython3",
   "version": "3.6.9"
  }
 },
 "nbformat": 4,
 "nbformat_minor": 4
}
